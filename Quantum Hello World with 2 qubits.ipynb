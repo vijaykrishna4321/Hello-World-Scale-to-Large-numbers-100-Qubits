{
 "cells": [
  {
   "cell_type": "markdown",
   "id": "945771b9-3945-4f49-90d4-e7428d2c7177",
   "metadata": {},
   "source": [
    "Create and run a simple quantum program there are four steps involved in it \n",
    "\n",
    "Step1. Map the problem to a quantum-native format"
   ]
  },
  {
   "cell_type": "code",
   "execution_count": 1,
   "id": "a8489c4a-27fe-4d36-a6a8-d8b5963687e3",
   "metadata": {},
   "outputs": [],
   "source": [
    "from qiskit import QuantumCircuit\n",
    "from qiskit.quantum_info import SparsePauliOp\n",
    "from qiskit.transpiler.preset_passmanagers import generate_preset_pass_manager\n",
    "from qiskit_ibm_runtime import EstimatorV2 as Estimator"
   ]
  },
  {
   "cell_type": "markdown",
   "id": "d7273dc7-922b-4d7d-84f2-9c0ee0bc63a5",
   "metadata": {},
   "source": [
    "#Create new Circuit with two qubits"
   ]
  },
  {
   "cell_type": "code",
   "execution_count": 2,
   "id": "c2b3f8ac-b019-4689-a25c-454e41674b63",
   "metadata": {},
   "outputs": [],
   "source": [
    "qc = QuantumCircuit(2)"
   ]
  },
  {
   "cell_type": "markdown",
   "id": "dd174c60-479c-42f2-932e-623d9185c321",
   "metadata": {},
   "source": [
    "#Add a Hadmard gate to qubit 0"
   ]
  },
  {
   "cell_type": "code",
   "execution_count": 3,
   "id": "30dec3f1-c4a9-4c6d-bd5e-048671163135",
   "metadata": {},
   "outputs": [
    {
     "data": {
      "text/plain": [
       "<qiskit.circuit.instructionset.InstructionSet at 0x1ff72c67a00>"
      ]
     },
     "execution_count": 3,
     "metadata": {},
     "output_type": "execute_result"
    }
   ],
   "source": [
    "qc.h(0)"
   ]
  },
  {
   "cell_type": "code",
   "execution_count": 4,
   "id": "cd429103-980a-4c54-a4d0-e95f9f7f3dae",
   "metadata": {},
   "outputs": [
    {
     "data": {
      "text/plain": [
       "<qiskit.circuit.instructionset.InstructionSet at 0x1ff4d4e1810>"
      ]
     },
     "execution_count": 4,
     "metadata": {},
     "output_type": "execute_result"
    }
   ],
   "source": [
    "#Add a CNot gate between qubit 0 and 1\n",
    "qc.cx(0,1)"
   ]
  },
  {
   "cell_type": "markdown",
   "id": "077f4eb1-55e7-4524-b434-273649bd9a21",
   "metadata": {},
   "source": [
    "Draw the circuit"
   ]
  },
  {
   "cell_type": "code",
   "execution_count": 5,
   "id": "041b66cf-5cee-481a-b7e4-66b95aca1f76",
   "metadata": {},
   "outputs": [
    {
     "data": {
      "image/png": "[encoded data removed]",
      "text/plain": [
       "<Figure size 287.294x200.667 with 1 Axes>"
      ]
     },
     "execution_count": 5,
     "metadata": {},
     "output_type": "execute_result"
    }
   ],
   "source": [
    "qc.draw('mpl')"
   ]
  },
  {
   "cell_type": "markdown",
   "id": "4677b890-9f91-41c7-9039-b3237dfb408b",
   "metadata": {},
   "source": [
    "#Setup six different observables here \n",
    "\n",
    "We have initiallyimported the above in order to map the lables into Observables function #from qiskit.quantum_info import SparsePauliOp\n",
    "\n",
    "Below are the Gates Idenity, Pauli Z , Pauli X and their combinations\n",
    "Operator notation for example zz in the below is the short form for tensor product of Z * Z, which means measuing Z on qubit 1 and Z on qubit 0 together, and obtain information about the correlation between qubit1 and qubit 0. Expectation values like this are also typically written as <Z1Z> (this is braket notation)  I is an Identiy matrix"
   ]
  },
  {
   "cell_type": "code",
   "execution_count": 6,
   "id": "2fb6ffd4-1e9d-42a8-877a-4f65e6281eab",
   "metadata": {},
   "outputs": [],
   "source": [
    "observables_labels = [\"IZ\", \"IX\", \"ZI\", \"XI\", \"ZZ\", \"XX\"]\n",
    "observables = [SparsePauliOp(label) for label in observables_labels]"
   ]
  },
  {
   "cell_type": "markdown",
   "id": "2d02b67c-7427-47e2-80bd-fcc4b7b0b1d9",
   "metadata": {},
   "source": [
    "Step2 . Optimize the circuits and operators\n",
    "\n",
    "When executing circuits on a device, it is important to optimize the set of instructions that the circuit contains and minimize the overall depth (roughly the number of instructions ) of the circuit. This ensures that you obtain the best results possible by reducing the effects of error and noise.\n",
    "The following code instantiates a real device to submit a job to and transforms the circuit and observables to match that backend's ISA (Instruction set Architecture)"
   ]
  },
  {
   "cell_type": "code",
   "execution_count": 7,
   "id": "1d7a07c6-d336-4adf-a30b-9afba64c3c86",
   "metadata": {},
   "outputs": [
    {
     "data": {
      "image/png": "[encoded data removed]",
      "text/plain": [
       "<Figure size 757.83x200.667 with 1 Axes>"
      ]
     },
     "execution_count": 7,
     "metadata": {},
     "output_type": "execute_result"
    }
   ],
   "source": [
    "from qiskit_ibm_runtime import QiskitRuntimeService\n",
    "# here i have already saved my credentials by connecting to IBM's Run time Quantum via my API Key that can be found in (https://quantum.ibm.com/) after you have enrolled with your email id.\n",
    "service =QiskitRuntimeService()\n",
    "backend = service.least_busy(simulator=False, operational=True)\n",
    "# Convert to an ISA Circuit and layout-mapped observables.\n",
    "pm = generate_preset_pass_manager(backend=backend, optimization_level=1)\n",
    "isa_circuit = pm.run(qc)\n",
    "isa_circuit.draw('mpl', idle_wires=False)"
   ]
  },
  {
   "cell_type": "markdown",
   "id": "f3834f8c-45fb-4e8f-a450-0a0519b817a9",
   "metadata": {},
   "source": [
    "Step3. Execute using the quantum primitives\n",
    "Quantum computers can produce random results, so you usually collect a sample of the outputs by running the circuit many times. You can estimate the value of observable by using the Estimator class. here there are two primitives one is Estimator and the other is a sampler, this can be used to get data from a quantum computer. These objects posses a run() method that executes the selection of circuits,observables, and parameters if applicable, using a primitive unified bloc"
   ]
  },
  {
   "cell_type": "code",
   "execution_count": 11,
   "id": "156fdc18-aefc-431b-9d3c-dc16fa950ae0",
   "metadata": {},
   "outputs": [
    {
     "name": "stdout",
     "output_type": "stream",
     "text": [
      ">>> JobID:cwj0vxz40e000088zfzg\n"
     ]
    }
   ],
   "source": [
    "# Construct the Estimator instance\n",
    "estimator = Estimator(mode = backend)\n",
    "estimator.options.resilience_level = 1\n",
    "estimator.options.default_shots = 5000\n",
    "mapped_observables = [ \n",
    "    observable.apply_layout(isa_circuit.layout) for observable in observables\n",
    "]\n",
    "# one pub, with one circuit to run against five different observables.\n",
    "job = estimator.run([(isa_circuit, mapped_observables)])\n",
    "# user the job ID to retrieve your job data later\n",
    "print(f\">>> JobID:{job.job_id()}\")"
   ]
  },
  {
   "cell_type": "code",
   "execution_count": 12,
   "id": "ed80384d-342e-4ee9-8ebf-f0e291ab50ad",
   "metadata": {},
   "outputs": [],
   "source": [
    "# This is the result of the entire submission. We have submitted one Pub (Primitive Unified Bloc)\n",
    "# so this contains one inner result (and some metadata of its own)\n",
    "job_result =job.result()\n",
    "# This is the result from our single pub, which had six observables, \n",
    "# so contains information on all six.\n",
    "pub_result = job.result()[0]"
   ]
  },
  {
   "cell_type": "markdown",
   "id": "e4890799-4958-4e6f-b79e-22be343ca786",
   "metadata": {},
   "source": [
    "Step.4 Analyze the results\n",
    "The analyze step is typicall where you migt postprocess your results using, for example measurement error mitigation or zero noise extrapolation (ZNE). You might feed these results into another workflow for further analysis or prepare a plot of the key values and data. For this specific example plot each of the expectation values that were measured for our circuit.\n",
    "\n",
    "\n"
   ]
  },
  {
   "cell_type": "code",
   "execution_count": 14,
   "id": "6efa0688-39c5-4b3c-9d5e-e93cd0ceaa0c",
   "metadata": {},
   "outputs": [
    {
     "data": {
      "image/png": "[encoded data removed]",
      "text/plain": [
       "<Figure size 640x480 with 1 Axes>"
      ]
     },
     "metadata": {},
     "output_type": "display_data"
    }
   ],
   "source": [
    "#Plot the result\n",
    "from matplotlib import pyplot as plt\n",
    "values = pub_result.data.evs\n",
    "errors = pub_result.data.stds\n",
    "#plotting graph\n",
    "plt.plot(observables_labels, values, '-o')\n",
    "plt.xlabel('Observables')\n",
    "plt.ylabel('values')\n",
    "plt.show()"
   ]
  },
  {
   "cell_type": "code",
   "execution_count": null,
   "id": "db62e854-45eb-44bb-9926-0fc69786f540",
   "metadata": {},
   "outputs": [],
   "source": []
  }
 ],
 "metadata": {
  "kernelspec": {
   "display_name": "Python 3 (ipykernel)",
   "language": "python",
   "name": "python3"
  },
  "language_info": {
   "codemirror_mode": {
    "name": "ipython",
    "version": 3
   },
   "file_extension": ".py",
   "mimetype": "text/x-python",
   "name": "python",
   "nbconvert_exporter": "python",
   "pygments_lexer": "ipython3",
   "version": "3.12.7"
  }
 },
 "nbformat": 4,
 "nbformat_minor": 5
}
